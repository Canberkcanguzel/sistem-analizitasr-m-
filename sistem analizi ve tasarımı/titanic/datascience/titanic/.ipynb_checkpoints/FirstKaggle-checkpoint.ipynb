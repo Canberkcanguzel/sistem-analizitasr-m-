{
 "cells": [
  {
   "cell_type": "code",
   "execution_count": 13,
   "id": "cc384478-d226-4c51-acb1-71ffa29f165f",
   "metadata": {},
   "outputs": [],
   "source": [
    "import pandas as pd"
   ]
  },
  {
   "cell_type": "code",
   "execution_count": 15,
   "id": "d6cc225d-d17f-4ef6-82e1-3289412c2d75",
   "metadata": {},
   "outputs": [],
   "source": [
    "data = pd.read_csv(\"C:\\\\Users\\\\saral\\\\OneDrive\\\\Masaüstü\\\\ders notları\\\\4.donem\\\\datascience\\\\titanic\\\\train.csv\")\n",
    "test = pd.read_csv(\"C:\\\\Users\\\\saral\\\\OneDrive\\\\Masaüstü\\\\ders notları\\\\4.donem\\\\datascience\\\\titanic\\\\test.csv\")\n",
    "\n",
    "data.head(5);\n"
   ]
  },
  {
   "cell_type": "code",
   "execution_count": null,
   "id": "bfd4d9f1-c6ee-42b3-a238-618de227f6aa",
   "metadata": {},
   "outputs": [],
   "source": []
  }
 ],
 "metadata": {
  "kernelspec": {
   "display_name": "Python 3 (ipykernel)",
   "language": "python",
   "name": "python3"
  },
  "language_info": {
   "codemirror_mode": {
    "name": "ipython",
    "version": 3
   },
   "file_extension": ".py",
   "mimetype": "text/x-python",
   "name": "python",
   "nbconvert_exporter": "python",
   "pygments_lexer": "ipython3",
   "version": "3.12.7"
  }
 },
 "nbformat": 4,
 "nbformat_minor": 5
}
